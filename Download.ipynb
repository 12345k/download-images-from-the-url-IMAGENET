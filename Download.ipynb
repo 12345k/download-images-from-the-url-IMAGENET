{
 "cells": [
  {
   "cell_type": "code",
   "execution_count": 62,
   "metadata": {
    "scrolled": true
   },
   "outputs": [],
   "source": [
    "import requests\n",
    "import urllib.request\n",
    "link = 'http://www.image-net.org/api/text/imagenet.synset.geturls?wnid=n04606574'\n",
    "          \n",
    "myfile = requests.get(link) \n"
   ]
  },
  {
   "cell_type": "code",
   "execution_count": 71,
   "metadata": {},
   "outputs": [],
   "source": [
    "def downloader(image_url,image_name):\n",
    "    print(image_url)\n",
    "    print(image_name)\n",
    "    try:\n",
    "        urllib.request.urlretrieve(image_url,image_name)\n",
    "    except Exception as e:\n",
    "        print(e)"
   ]
  },
  {
   "cell_type": "code",
   "execution_count": 72,
   "metadata": {
    "scrolled": false
   },
   "outputs": [
    {
     "name": "stdout",
     "output_type": "stream",
     "text": [
      "http://www1.istockphoto.com/file_thumbview_approve/1850352/2/istockphoto_1850352_tools.jpg\n",
      "http://www1.istockphoto.com/file_thumbview_approve/1850352/2/istockphoto_1850352_tools.jpg\n",
      "image_1.jpg\n",
      "<urlopen error [Errno 11001] getaddrinfo failed>\n",
      "http://farm3.static.flickr.com/2035/2458902835_c171d55306.jpg\n",
      "http://farm3.static.flickr.com/2035/2458902835_c171d55306.jpg\n",
      "image_2.jpg\n",
      "http://www.bellbrush.com/images/too470.jpg\n",
      "http://www.bellbrush.com/images/too470.jpg\n",
      "image_3.jpg\n",
      "HTTP Error 404: Not Found\n",
      "http://www.toolreviewguide.com/sites/dgarber/_files/Image/Crescent%20wrench.jpg\n",
      "http://www.toolreviewguide.com/sites/dgarber/_files/Image/Crescent%20wrench.jpg\n",
      "image_4.jpg\n",
      "<urlopen error [Errno 11001] getaddrinfo failed>\n",
      "http://www.unitedtoolstore.com/i/SKT86240.jpg\n",
      "http://www.unitedtoolstore.com/i/SKT86240.jpg\n",
      "image_5.jpg\n",
      "<urlopen error [Errno 11001] getaddrinfo failed>\n",
      "http://alloy-annex.home.comcast.net/Photos/tools/plomb_db1214_1122_wrench_usa_f_cropped.jpg\n",
      "http://alloy-annex.home.comcast.net/Photos/tools/plomb_db1214_1122_wrench_usa_f_cropped.jpg\n",
      "image_6.jpg\n",
      "HTTP Error 404: Not Found on Accelerator\n",
      "http://www.toolfetch.com/media/41149.jpg\n",
      "http://www.toolfetch.com/media/41149.jpg\n",
      "image_7.jpg\n",
      "HTTP Error 403: Forbidden\n",
      "https://www.expeditionexchange.com/bucketboss/DSC01306.jpg\n",
      "https://www.expeditionexchange.com/bucketboss/DSC01306.jpg\n",
      "image_8.jpg\n",
      "HTTP Error 404: Not Found\n",
      "http://i20.ebayimg.com/02/i/000/81/65/641d_2.JPG\n",
      "http://i20.ebayimg.com/02/i/000/81/65/641d_2.JPG\n",
      "image_9.jpg\n",
      "http://www.einfopedia.com/autos/parts_and_maintenance/images/set_of_wrench_l.jpg\n",
      "http://www.einfopedia.com/autos/parts_and_maintenance/images/set_of_wrench_l.jpg\n",
      "image_10.jpg\n",
      "HTTP Error 404: Not Found\n"
     ]
    }
   ],
   "source": [
    "count=0\n",
    "for i in myfile.text.split(\"\\r\\n\"):\n",
    "    print(i)\n",
    "    count+=1\n",
    "    downloader(i,\"image_\"+str(count)+\".jpg\")\n",
    "    if(count==10):\n",
    "        break"
   ]
  }
 ],
 "metadata": {
  "kernelspec": {
   "display_name": "Python 3",
   "language": "python",
   "name": "python3"
  },
  "language_info": {
   "codemirror_mode": {
    "name": "ipython",
    "version": 3
   },
   "file_extension": ".py",
   "mimetype": "text/x-python",
   "name": "python",
   "nbconvert_exporter": "python",
   "pygments_lexer": "ipython3",
   "version": "3.6.5"
  }
 },
 "nbformat": 4,
 "nbformat_minor": 2
}
